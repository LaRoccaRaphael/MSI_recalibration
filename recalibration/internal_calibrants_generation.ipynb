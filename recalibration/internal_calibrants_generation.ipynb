{
 "cells": [
  {
   "cell_type": "code",
   "execution_count": 35,
   "metadata": {},
   "outputs": [],
   "source": [
    "import numpy as np\n",
    "import pandas as pd\n",
    "from metaspace.sm_annotation_utils import SMInstance"
   ]
  },
  {
   "cell_type": "code",
   "execution_count": 36,
   "metadata": {},
   "outputs": [],
   "source": [
    "# return the mass values of an annotations (+isotopes) for a particular METASPACE dataset\n",
    "# min_annot is the minimum number of annotations required to consider a dataset\n",
    "def retrieve_metaspace_msi_mz(msi_id,min_annot=15):\n",
    "    msi = sm.dataset(id=msi_id)\n",
    "    total_annot = [] \n",
    "    for db in msi.database_details:\n",
    "        annot_df = msi.results(database=(db['id']))\n",
    "        \n",
    "        if annot_df.shape[0] >0:\n",
    "            annot_df = annot_df['isotopeImages']\n",
    "            if annot_df.shape[0] > min_annot:\n",
    "                for i in range(0,annot_df.shape[0]):\n",
    "                    for j in range(0,3): # first 3 isotopes\n",
    "                        total_annot.append(np.around(annot_df[i][j]['mz'], decimals=4))\n",
    "                        \n",
    "    return np.unique(np.asarray(total_annot))\n",
    "\n",
    "# return unique mass values from multiple METASPACE datasets\n",
    "def unique_mz_over_msi_set(df):\n",
    "    full_annot_count = {}\n",
    "    for i in range(0,len(df.index)):\n",
    "        msi_id = df.index[i]\n",
    "        peaks = retrieve_metaspace_msi_mz(msi_id,min_annot=15)\n",
    "        for j in range(0,np.size(peaks,0)):\n",
    "            if full_annot_count.get(peaks[j]) != None:\n",
    "                full_annot_count[peaks[j]] += 1\n",
    "            else:\n",
    "                full_annot_count[peaks[j]] = 1\n",
    "    return full_annot_count\n",
    "\n",
    "def return_peaks_list_from_dict(peaks_dict,df,annot_perct=0.05):\n",
    "    final_peak_list = []\n",
    "    for key in peaks_dict:\n",
    "        if peaks_dict[key] >len(df.index)*annot_perct:\n",
    "            final_peak_list.append(key)\n",
    "    return final_peak_list"
   ]
  },
  {
   "cell_type": "code",
   "execution_count": 37,
   "metadata": {},
   "outputs": [
    {
     "data": {
      "text/plain": [
       "Index(['Data_Type', 'Sample_Information.Organism',\n",
       "       'Sample_Information.Organism_Part', 'Sample_Information.Condition',\n",
       "       'Sample_Information.Sample_Growth_Conditions',\n",
       "       'Sample_Preparation.Sample_Stabilisation',\n",
       "       'Sample_Preparation.Tissue_Modification',\n",
       "       'Sample_Preparation.MALDI_Matrix',\n",
       "       'Sample_Preparation.MALDI_Matrix_Application',\n",
       "       'Sample_Preparation.Solvent', 'MS_Analysis.Polarity',\n",
       "       'MS_Analysis.Ionisation_Source', 'MS_Analysis.Analyzer',\n",
       "       'MS_Analysis.Detector_Resolving_Power.Resolving_Power',\n",
       "       'MS_Analysis.Detector_Resolving_Power.mz',\n",
       "       'MS_Analysis.Pixel_Size.Xaxis', 'MS_Analysis.Pixel_Size.Yaxis',\n",
       "       'Additional_Information.Supplementary',\n",
       "       'Submitted_By.Submitter.First_Name', 'Submitted_By.Submitter.Email',\n",
       "       'Submitted_By.Submitter.Surname',\n",
       "       'Submitted_By.Principal_Investigator.First_Name',\n",
       "       'Submitted_By.Principal_Investigator.Email',\n",
       "       'Submitted_By.Principal_Investigator.Surname',\n",
       "       'Submitted_By.Institution'],\n",
       "      dtype='object')"
      ]
     },
     "execution_count": 37,
     "metadata": {},
     "output_type": "execute_result"
    }
   ],
   "source": [
    "sm = SMInstance()\n",
    "metadata = sm.get_metadata()\n",
    "metadata.columns # available metadata"
   ]
  },
  {
   "cell_type": "code",
   "execution_count": 38,
   "metadata": {},
   "outputs": [],
   "source": [
    "# Example of how to generate the internal calibrating ions according to similar public MSI datasets\n",
    "# In this case the MSI are similar by their aquisition mode 'Positive' and organism part 'Brain'\n",
    "\n",
    "msi_subset = metadata.loc[(metadata['Sample_Information.Organism_Part'] == \"Brain\") & \n",
    "             (metadata['MS_Analysis.Polarity'] == \"Positive\") ]\n",
    "peaks_dict = unique_mz_over_msi_set(msi_subset)\n",
    "\n",
    "# annot_perct is the minimum frequency over the selected METASPACE datasets required to keep a mass value\n",
    "peaks_list = return_peaks_list_from_dict(peaks_dict,msi_subset,annot_perct=0.1)"
   ]
  }
 ],
 "metadata": {
  "kernelspec": {
   "display_name": "Python 3",
   "language": "python",
   "name": "python3"
  },
  "language_info": {
   "codemirror_mode": {
    "name": "ipython",
    "version": 3
   },
   "file_extension": ".py",
   "mimetype": "text/x-python",
   "name": "python",
   "nbconvert_exporter": "python",
   "pygments_lexer": "ipython3",
   "version": "3.6.10"
  }
 },
 "nbformat": 4,
 "nbformat_minor": 4
}
